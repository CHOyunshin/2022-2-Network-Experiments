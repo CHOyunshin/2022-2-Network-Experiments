{
 "cells": [
  {
   "cell_type": "markdown",
   "metadata": {},
   "source": [
    "# week 09 experimnet 2 -> client "
   ]
  },
  {
   "cell_type": "code",
   "execution_count": null,
   "metadata": {},
   "outputs": [],
   "source": [
    "from socket import *\n",
    "import os\n",
    "import sys\n",
    "import time\n",
    "\n",
    "# 마찬가지로 webserver 의 오류 부분 \n",
    "Host = '172.20.10.4'\n",
    "Port = 7002\n",
    "\n",
    "clientSocket = socket(AF_INET, SOCK_STREAM)\n",
    "\n",
    "clientSocket.connect((Host,Port))\n",
    "\n",
    "message = input('요청할 파일 이름: ')\n",
    "clientSocket.sendall(message.encode())\n",
    "\n",
    "data = clientSocket.recv(4096)\n",
    "data_iter = 0\n",
    "\n",
    "os.chdir(\"/Users/yscho/Desktop/week09-python/ex_02/client/\")\n",
    "nowdir = os.getcwd()\n",
    "with open(nowdir+ \"\\\\\" + message, 'wb') as f:     #현재 dir에 filename으로 파일을 받는다\n",
    "\ttry:\n",
    "\t\twhile data:     #데이터가 있을 때까지\n",
    "\t\t\tf.write(4096)     #4096바이트 쓴다\n",
    "\t\t\tdata_iter = data_iter + 1\n",
    "\t\t\tdata = clientSocket.recv(4096)     #4096바이트를 받아 온다\n",
    "\t\t\tprint('파일 %s (seq : %d) is received' %(message, data_iter))\n",
    "\t\t\ttime.sleep(0.5)\n",
    "\texcept Exception as ex:\n",
    "\t\tprint(ex)"
   ]
  }
 ],
 "metadata": {
  "language_info": {
   "name": "python"
  },
  "orig_nbformat": 4
 },
 "nbformat": 4,
 "nbformat_minor": 2
}
