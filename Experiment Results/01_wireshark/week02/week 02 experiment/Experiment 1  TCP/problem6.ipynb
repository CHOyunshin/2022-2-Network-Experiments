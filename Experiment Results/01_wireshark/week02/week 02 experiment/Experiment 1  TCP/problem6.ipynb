{
 "cells": [
  {
   "cell_type": "markdown",
   "metadata": {},
   "source": [
    "## Problem 1 - 6 \n",
    "given equation to assume the value of EstimatedRTT below:\n",
    "$$ \\text{EstimatedRTT} = 0.875 \\times \\text{EstimatedRTT} + 0.125 \\times \\text{SampleRTT}\n",
    "\n",
    "$$ y = 2a \\times x + b"
   ]
  },
  {
   "cell_type": "code",
   "execution_count": 1,
   "metadata": {},
   "outputs": [
    {
     "name": "stdout",
     "output_type": "stream",
     "text": [
      "Yuna is 바보\n"
     ]
    }
   ],
   "source": [
    "print('Yuna is 바보')"
   ]
  },
  {
   "cell_type": "code",
   "execution_count": 2,
   "metadata": {},
   "outputs": [],
   "source": [
    "# The value of RTT for the first six segments.\n",
    "RTT = [0.027460, 0.035557, 0.070059, 0.114430, 0.139890, 0.189640]\n",
    "# Given EstimatedRTT function\n",
    "func_EstimatedRTT = lambda x_1,x_2: 0.875*x_1 + 0.125*x_2\n",
    "\n",
    "EstimatedRTT = [RTT[0]]\n",
    "for i in range(len(RTT[1:])):\n",
    "    EstimatedRTT.append(round(func_EstimatedRTT(EstimatedRTT[i],RTT[i+1]),5))"
   ]
  },
  {
   "cell_type": "code",
   "execution_count": 3,
   "metadata": {},
   "outputs": [
    {
     "name": "stdout",
     "output_type": "stream",
     "text": [
      "EstimatedRTT after the receipt of the ACK of segment 1\n",
      "    EstimatedRTT  =  0.02746 (sec)\n",
      "EstimatedRTT after the receipt of the ACK of segment 2\n",
      "    EstimatedRTT  =  0.02847 (sec)\n",
      "EstimatedRTT after the receipt of the ACK of segment 3\n",
      "    EstimatedRTT  =  0.03367 (sec)\n",
      "EstimatedRTT after the receipt of the ACK of segment 4\n",
      "    EstimatedRTT  =  0.04376 (sec)\n",
      "EstimatedRTT after the receipt of the ACK of segment 5\n",
      "    EstimatedRTT  =  0.05578 (sec)\n",
      "EstimatedRTT after the receipt of the ACK of segment 6\n",
      "    EstimatedRTT  =  0.07251 (sec)\n"
     ]
    }
   ],
   "source": [
    "for i in range(len(RTT)):\n",
    "    print('EstimatedRTT after the receipt of the ACK of segment',i+1)\n",
    "    print ('    EstimatedRTT  = ',EstimatedRTT[i],'(sec)')"
   ]
  }
 ],
 "metadata": {
  "kernelspec": {
   "display_name": "Python 3.10.5 64-bit",
   "language": "python",
   "name": "python3"
  },
  "language_info": {
   "codemirror_mode": {
    "name": "ipython",
    "version": 3
   },
   "file_extension": ".py",
   "mimetype": "text/x-python",
   "name": "python",
   "nbconvert_exporter": "python",
   "pygments_lexer": "ipython3",
   "version": "3.10.7"
  },
  "orig_nbformat": 4,
  "vscode": {
   "interpreter": {
    "hash": "e7666eb6031535d6e90b4b11b0b7a37060a652e5fd9029b2370c4f69b76902f5"
   }
  }
 },
 "nbformat": 4,
 "nbformat_minor": 2
}
