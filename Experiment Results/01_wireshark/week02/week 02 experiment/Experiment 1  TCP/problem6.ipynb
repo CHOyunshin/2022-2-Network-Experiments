{
 "cells": [
  {
   "cell_type": "markdown",
   "metadata": {},
   "source": [
    "**Problem 6**  \n",
    "Assume that the value of the EstimatedRTT is equal to the measured RTT for the first segment,  \n",
    "and then is computed using the EstimatedRTT equation below for all subsequent segments.\n",
    "$$ \\text{EstimatedRTT} = 0.875 \\times \\text{EstimatedRTT} + 0.125 \\times \\text{SampleRTT}\n",
    "\n",
    "$$ y = 2a \\times x + b"
   ]
  },
  {
   "cell_type": "code",
   "execution_count": 1,
   "metadata": {},
   "outputs": [
    {
     "data": {
      "text/plain": [
       "[0.02746, 0.02847, 0.03367, 0.04376, 0.05578, 0.07251]"
      ]
     },
     "execution_count": 1,
     "metadata": {},
     "output_type": "execute_result"
    }
   ],
   "source": [
    "# The value of RTT for the first six segments.\n",
    "RTT = [0.027460, 0.035557, 0.070059, 0.114430, 0.139890, 0.189640]\n",
    "# Given EstimatedRTT function\n",
    "func_EstimatedRTT = lambda x_1,x_2: 0.875*x_1 + 0.125*x_2\n",
    "\n",
    "EstimatedRTT = [RTT[0]]\n",
    "for i in range(len(RTT[1:])):\n",
    "    EstimatedRTT.append(round(func_EstimatedRTT(EstimatedRTT[i],RTT[i+1]),5))\n",
    "EstimatedRTT"
   ]
  },
  {
   "cell_type": "code",
   "execution_count": 2,
   "metadata": {},
   "outputs": [
    {
     "name": "stdout",
     "output_type": "stream",
     "text": [
      "EstimatedRTT after the receipt of the ACK of segment 1\n",
      "    EstimatedRTT  =  0.02746 (sec)\n",
      "EstimatedRTT after the receipt of the ACK of segment 2\n",
      "    EstimatedRTT  =  0.02847 (sec)\n",
      "EstimatedRTT after the receipt of the ACK of segment 3\n",
      "    EstimatedRTT  =  0.03367 (sec)\n",
      "EstimatedRTT after the receipt of the ACK of segment 4\n",
      "    EstimatedRTT  =  0.04376 (sec)\n",
      "EstimatedRTT after the receipt of the ACK of segment 5\n",
      "    EstimatedRTT  =  0.05578 (sec)\n",
      "EstimatedRTT after the receipt of the ACK of segment 6\n",
      "    EstimatedRTT  =  0.07251 (sec)\n"
     ]
    }
   ],
   "source": [
    "for i in range(len(RTT)):\n",
    "    print('EstimatedRTT after the receipt of the ACK of segment',i+1)\n",
    "    print ('    EstimatedRTT  = ',EstimatedRTT[i],'(sec)')"
   ]
  }
 ],
 "metadata": {
  "kernelspec": {
   "display_name": "Python 3.9.12 ('base')",
   "language": "python",
   "name": "python3"
  },
  "language_info": {
   "codemirror_mode": {
    "name": "ipython",
    "version": 3
   },
   "file_extension": ".py",
   "mimetype": "text/x-python",
   "name": "python",
   "nbconvert_exporter": "python",
   "pygments_lexer": "ipython3",
   "version": "3.9.12"
  },
  "orig_nbformat": 4,
  "vscode": {
   "interpreter": {
    "hash": "ad2bdc8ecc057115af97d19610ffacc2b4e99fae6737bb82f5d7fb13d2f2c186"
   }
  }
 },
 "nbformat": 4,
 "nbformat_minor": 2
}
